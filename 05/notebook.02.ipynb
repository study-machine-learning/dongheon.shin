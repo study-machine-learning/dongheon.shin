{
 "cells": [
  {
   "cell_type": "code",
   "execution_count": 1,
   "metadata": {},
   "outputs": [
    {
     "name": "stdout",
     "output_type": "stream",
     "text": [
      "150\n"
     ]
    }
   ],
   "source": [
    "import tensorflow as tf\n",
    "\n",
    "a = tf.constant(100)\n",
    "b = tf.constant(50)\n",
    "\n",
    "add_operation = a + b\n",
    "\n",
    "v = tf.Variable(0)\n",
    "\n",
    "assign_operation = tf.assign(v, add_operation)\n",
    "\n",
    "sess = tf.Session()\n",
    "\n",
    "sess.run(tf.global_variables_initializer())\n",
    "sess.run(assign_operation)\n",
    "\n",
    "print(sess.run(v))"
   ]
  },
  {
   "cell_type": "code",
   "execution_count": 2,
   "metadata": {},
   "outputs": [
    {
     "name": "stdout",
     "output_type": "stream",
     "text": [
      "[2 4 6]\n",
      "[20 40 60]\n"
     ]
    }
   ],
   "source": [
    "a = tf.placeholder(tf.int32, [3])\n",
    "b = tf.constant(2)\n",
    "\n",
    "multiply_operation = a * b\n",
    "\n",
    "sess = tf.Session()\n",
    "\n",
    "result = sess.run(multiply_operation, feed_dict={a: [1, 2, 3]})\n",
    "print(result)\n",
    "\n",
    "result = sess.run(multiply_operation, feed_dict={a: [10, 20, 30]})\n",
    "print(result)"
   ]
  },
  {
   "cell_type": "code",
   "execution_count": 3,
   "metadata": {},
   "outputs": [
    {
     "name": "stdout",
     "output_type": "stream",
     "text": [
      "[10 20 30 40 50]\n",
      "[100 200]\n"
     ]
    }
   ],
   "source": [
    "a = tf.placeholder(tf.int32, [None])\n",
    "b = tf.constant(10)\n",
    "\n",
    "multiply_operation = a * b\n",
    "\n",
    "sess = tf.Session()\n",
    "\n",
    "result = sess.run(multiply_operation, feed_dict={a: [1, 2, 3, 4, 5]})\n",
    "print(result)\n",
    "\n",
    "result = sess.run(multiply_operation, feed_dict={a: [10, 20]})\n",
    "print(result)"
   ]
  },
  {
   "cell_type": "code",
   "execution_count": null,
   "metadata": {},
   "outputs": [],
   "source": []
  }
 ],
 "metadata": {
  "kernelspec": {
   "display_name": "Python 3",
   "language": "python",
   "name": "python3"
  },
  "language_info": {
   "codemirror_mode": {
    "name": "ipython",
    "version": 3
   },
   "file_extension": ".py",
   "mimetype": "text/x-python",
   "name": "python",
   "nbconvert_exporter": "python",
   "pygments_lexer": "ipython3",
   "version": "3.6.2"
  }
 },
 "nbformat": 4,
 "nbformat_minor": 2
}
